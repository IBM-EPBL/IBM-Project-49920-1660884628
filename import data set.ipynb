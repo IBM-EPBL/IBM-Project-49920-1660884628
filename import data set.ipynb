{
 "cells": [
  {
   "cell_type": "code",
   "execution_count": null,
   "id": "c54809cf",
   "metadata": {},
   "outputs": [],
   "source": [
    "import pandas as pd\n",
    "import numpy as np\n",
    "import matplotlib.pyplot as plt\n",
    "import re\n",
    "import os\n",
    "import collections\n",
    "import seaborn as sns\n",
    "import plotly.express as px\n",
    "import warnings\n",
    "warnings.filterwarnings('ignore')\n",
    "!pip3 install openpyxl\n",
    "Requirement already satisfied: openpyxl in c:\\users\\vicky reddy\\anaconda3\\lib\\site-packages (3.0.9)\n",
    "Requirement already satisfied: et-xmlfile in c:\\users\\vicky reddy\\anaconda3\\lib\\site-packages (from openpyxl) (1.1.0)\n",
    "## loading dataset\n",
    "df=pd.read_csv('weather.csv')\n",
    "df.head()\n",
    "366 Days\tMinTemp\tMaxTemp\tRainfall\tEvaporation\tSunshine\tWindGustDir\tWindGustSpeed\tWindDir9am\tWindDir3pm\t...\tHumidity3pm\tPressure9am\tPressure3pm\tCloud9am\tCloud3pm\tTemp9am\tTemp3pm\tRainToday\tRISK_MM\tRainTomorrow\n",
    "0\t1\t8.0\t24.3\t0.0\t3.4\t6.3\tNW\t30.0\tSW\tNW\t...\t29\t1019.7\t1015.0\t7\t7\t14.4\t23.6\tNo\t3.6\tYes\n",
    "1\t2\t14.0\t26.9\t3.6\t4.4\t9.7\tENE\t39.0\tE\tW\t...\t36\t1012.4\t1008.4\t5\t3\t17.5\t25.7\tYes\t3.6\tYes\n",
    "2\t3\t13.7\t23.4\t3.6\t5.8\t3.3\tNW\t85.0\tN\tNNE\t...\t69\t1009.5\t1007.2\t8\t7\t15.4\t20.2\tYes\t39.8\tYes\n",
    "3\t4\t13.3\t15.5\t39.8\t7.2\t9.1\tNW\t54.0\tWNW\tW\t...\t56\t1005.5\t1007.0\t2\t7\t13.5\t14.1\tYes\t2.8\tYes\n",
    "4\t5\t7.6\t16.1\t2.8\t5.6\t10.6\tSSE\t50.0\tSSE\tESE\t...\t49\t1018.3\t1018.5\t7\t7\t11.1\t15.4\tYes\t0.0\tNo\n",
    "5 rows × 23 columns\n",
    "\n",
    "dfa=pd.read_csv('rainfall in india 1901-2015.csv')\n",
    "dfa.head()\n",
    "SUBDIVISION\tYEAR\tJAN\tFEB\tMAR\tAPR\tMAY\tJUN\tJUL\tAUG\tSEP\tOCT\tNOV\tDEC\tANNUAL\tJan-Feb\tMar-May\tJun-Sep\tOct-Dec\n",
    "0\tANDAMAN & NICOBAR ISLANDS\t1901\t49.2\t87.1\t29.2\t2.3\t528.8\t517.5\t365.1\t481.1\t332.6\t388.5\t558.2\t33.6\t3373.2\t136.3\t560.3\t1696.3\t980.3\n",
    "1\tANDAMAN & NICOBAR ISLANDS\t1902\t0.0\t159.8\t12.2\t0.0\t446.1\t537.1\t228.9\t753.7\t666.2\t197.2\t359.0\t160.5\t3520.7\t159.8\t458.3\t2185.9\t716.7\n",
    "2\tANDAMAN & NICOBAR ISLANDS\t1903\t12.7\t144.0\t0.0\t1.0\t235.1\t479.9\t728.4\t326.7\t339.0\t181.2\t284.4\t225.0\t2957.4\t156.7\t236.1\t1874.0\t690.6\n",
    "3\tANDAMAN & NICOBAR ISLANDS\t1904\t9.4\t14.7\t0.0\t202.4\t304.5\t495.1\t502.0\t160.1\t820.4\t222.2\t308.7\t40.1\t3079.6\t24.1\t506.9\t1977.6\t571.0\n",
    "4\tANDAMAN & NICOBAR ISLANDS\t1905\t1.3\t0.0\t3.3\t26.9\t279.5\t628.7\t368.7\t330.5\t297.0\t260.7\t25.4\t344.7\t2566.7\t1.3\t309.7\t1624.9\t630.8\n",
    "dfb=pd.read_csv('District wise rainfall normal.csv')\n",
    "dfb.head()\n",
    "STATE_UT_NAME\tDISTRICT\tJAN\tFEB\tMAR\tAPR\tMAY\tJUN\tJUL\tAUG\tSEP\tOCT\tNOV\tDEC\tANNUAL\tJan-Feb\tMar-May\tJun-Sep\tOct-Dec\n",
    "0\tANDAMAN And NICOBAR ISLANDS\tNICOBAR\t107.3\t57.9\t65.2\t117.0\t358.5\t295.5\t285.0\t271.9\t354.8\t326.0\t315.2\t250.9\t2805.2\t165.2\t540.7\t1207.2\t892.1\n",
    "1\tANDAMAN And NICOBAR ISLANDS\tSOUTH ANDAMAN\t43.7\t26.0\t18.6\t90.5\t374.4\t457.2\t421.3\t423.1\t455.6\t301.2\t275.8\t128.3\t3015.7\t69.7\t483.5\t1757.2\t705.3\n",
    "2\tANDAMAN And NICOBAR ISLANDS\tN & M ANDAMAN\t32.7\t15.9\t8.6\t53.4\t343.6\t503.3\t465.4\t460.9\t454.8\t276.1\t198.6\t100.0\t2913.3\t48.6\t405.6\t1884.4\t574.7\n",
    "3\tARUNACHAL PRADESH\tLOHIT\t42.2\t80.8\t176.4\t358.5\t306.4\t447.0\t660.1\t427.8\t313.6\t167.1\t34.1\t29.8\t3043.8\t123.0\t841.3\t1848.5\t231.0\n",
    "4\tARUNACHAL PRADESH\tEAST SIANG\t33.3\t79.5\t105.9\t216.5\t323.0\t738.3\t990.9\t711.2\t568.0\t206.9\t29.5\t31.7\t4034.7\t112.8\t645.4\t3008.4\t268.1"
   ]
  }
 ],
 "metadata": {
  "kernelspec": {
   "display_name": "Python 3 (ipykernel)",
   "language": "python",
   "name": "python3"
  },
  "language_info": {
   "codemirror_mode": {
    "name": "ipython",
    "version": 3
   },
   "file_extension": ".py",
   "mimetype": "text/x-python",
   "name": "python",
   "nbconvert_exporter": "python",
   "pygments_lexer": "ipython3",
   "version": "3.9.12"
  }
 },
 "nbformat": 4,
 "nbformat_minor": 5
}
